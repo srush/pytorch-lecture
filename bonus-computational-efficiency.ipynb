{
 "cells": [
  {
   "cell_type": "markdown",
   "metadata": {},
   "source": [
    "## Numpy and Computation Efficiency\n",
    "\n",
    "This notebooks illustrates the computational efficiency of running linear algebra with the proper tools - such as numpy.\n",
    "\n",
    "Let's compute an array dot product in Python:"
   ]
  },
  {
   "cell_type": "code",
   "execution_count": null,
   "metadata": {},
   "outputs": [],
   "source": [
    "import numpy as np"
   ]
  },
  {
   "cell_type": "code",
   "execution_count": null,
   "metadata": {},
   "outputs": [],
   "source": [
    "def array_dot_product(v1, v2):\n",
    "    dot_product = 0\n",
    "    \n",
    "    for v1_i, v2_i in zip(v1, v2):\n",
    "        dot_product += v1_i * v2_i\n",
    "    \n",
    "    return dot_product\n",
    "\n",
    "v1 = list(range(100))\n",
    "v2 = list(range(100, 200))\n",
    "\n",
    "print(\"v1 = %s\\n\" % v1)\n",
    "print(\"v2 = %s\\n\" % v2)\n",
    "\n",
    "result = array_dot_product(v1, v2)\n",
    "print(\"v1 dot v2 = %d\" % result)"
   ]
  },
  {
   "cell_type": "markdown",
   "metadata": {},
   "source": [
    "Okay, it works, but how long does it take?"
   ]
  },
  {
   "cell_type": "code",
   "execution_count": null,
   "metadata": {},
   "outputs": [],
   "source": [
    "%timeit array_dot_product(v1, v2)"
   ]
  },
  {
   "cell_type": "markdown",
   "metadata": {},
   "source": [
    "Now let's try with numpy -- it uses data structures like in C, optimized for mathematical operations, without the Python overhead."
   ]
  },
  {
   "cell_type": "code",
   "execution_count": null,
   "metadata": {},
   "outputs": [],
   "source": [
    "v1_np = np.arange(100)\n",
    "v2_np = np.arange(100, 200)\n",
    "print(\"v1: %s\\n\" % v1_np)\n",
    "print(\"v2: %s\\n\" % v2_np)\n",
    "\n",
    "result = v1_np.dot(v2_np)\n",
    "print(\"v1 dot v2 = %d\" % result)"
   ]
  },
  {
   "cell_type": "markdown",
   "metadata": {},
   "source": [
    "Nice, aligned formatting. Now let's check the running time."
   ]
  },
  {
   "cell_type": "code",
   "execution_count": null,
   "metadata": {},
   "outputs": [],
   "source": [
    "%timeit v1_np.dot(v2_np)"
   ]
  },
  {
   "cell_type": "markdown",
   "metadata": {},
   "source": [
    "What about matrices?"
   ]
  },
  {
   "cell_type": "code",
   "execution_count": null,
   "metadata": {},
   "outputs": [],
   "source": [
    "def matrix_dot_product(m1, m2_t):\n",
    "    num_rows = len(m1)\n",
    "    num_columns = len(m2_t)\n",
    "    internal_dim = len(m1[0])\n",
    "    result = []\n",
    "    \n",
    "    for i in range(num_rows):\n",
    "        new_row = []\n",
    "        for j in range(num_columns):\n",
    "            total = 0\n",
    "            for k in range(internal_dim):\n",
    "                total += m1[i][k] * m2_t[j][k]\n",
    "            new_row.append(total)\n",
    "        result.append(new_row)\n",
    "    \n",
    "    return result"
   ]
  },
  {
   "cell_type": "code",
   "execution_count": null,
   "metadata": {},
   "outputs": [],
   "source": [
    "m1 = np.random.rand(100, 200)\n",
    "m2 = np.random.rand(200, 300)\n",
    "\n",
    "m2_t = m2.T\n",
    "m1_list = m1.tolist()\n",
    "m2_t_list = m2_t.tolist()\n",
    "result_list = matrix_dot_product(m1_list, m2_t_list)\n",
    "result_numpy = m1.dot(m2)"
   ]
  },
  {
   "cell_type": "markdown",
   "metadata": {},
   "source": [
    "Checking the results..."
   ]
  },
  {
   "cell_type": "code",
   "execution_count": null,
   "metadata": {},
   "outputs": [],
   "source": [
    "result_list = np.array(result_list)\n",
    "result_list == result_numpy"
   ]
  },
  {
   "cell_type": "markdown",
   "metadata": {},
   "source": [
    "Different? How much?"
   ]
  },
  {
   "cell_type": "code",
   "execution_count": null,
   "metadata": {},
   "outputs": [],
   "source": [
    "result_list - result_numpy"
   ]
  },
  {
   "cell_type": "code",
   "execution_count": null,
   "metadata": {},
   "outputs": [],
   "source": [
    "np.abs(result_list - result_numpy).sum()"
   ]
  },
  {
   "cell_type": "markdown",
   "metadata": {},
   "source": [
    "Okay. Now lets time it again."
   ]
  },
  {
   "cell_type": "code",
   "execution_count": null,
   "metadata": {},
   "outputs": [],
   "source": [
    "%timeit matrix_dot_product(m1_list, m2_t_list)"
   ]
  },
  {
   "cell_type": "code",
   "execution_count": null,
   "metadata": {},
   "outputs": [],
   "source": [
    "%timeit m1.dot(m2)"
   ]
  },
  {
   "cell_type": "code",
   "execution_count": null,
   "metadata": {},
   "outputs": [],
   "source": [
    "time1 = 647e-3\n",
    "time2 = 215e-6\n",
    "print('Numpy is ~{:.0f}x faster than standard python'.format(time1 / time2))"
   ]
  },
  {
   "cell_type": "markdown",
   "metadata": {},
   "source": [
    "## Enters PyTorch"
   ]
  },
  {
   "cell_type": "code",
   "execution_count": null,
   "metadata": {},
   "outputs": [],
   "source": [
    "import torch"
   ]
  },
  {
   "cell_type": "code",
   "execution_count": null,
   "metadata": {},
   "outputs": [],
   "source": [
    "m1_pt = torch.from_numpy(m1)\n",
    "m2_pt = torch.from_numpy(m2)"
   ]
  },
  {
   "cell_type": "code",
   "execution_count": null,
   "metadata": {},
   "outputs": [],
   "source": [
    "%timeit m1_pt @ m2_pt"
   ]
  },
  {
   "cell_type": "markdown",
   "metadata": {},
   "source": [
    "Seems about the same... Now let's try to use a GPU:"
   ]
  },
  {
   "cell_type": "code",
   "execution_count": null,
   "metadata": {},
   "outputs": [],
   "source": [
    "m1_pt = m1_pt.to('cuda')\n",
    "m2_pt = m2_pt.to('cuda')\n",
    "%timeit m1_pt @ m2_pt"
   ]
  },
  {
   "cell_type": "markdown",
   "metadata": {},
   "source": [
    "Can we make make things more efficient? Enters **JIT**."
   ]
  },
  {
   "cell_type": "code",
   "execution_count": null,
   "metadata": {},
   "outputs": [],
   "source": [
    "@torch.jit.script\n",
    "def jit_mm(m1, m2):\n",
    "    return m1 @ m2\n",
    "\n",
    "%timeit jit_mm(m1_pt, m2_pt)"
   ]
  },
  {
   "cell_type": "code",
   "execution_count": null,
   "metadata": {},
   "outputs": [],
   "source": [
    "%timeit jit_mm(m1_pt, m2_pt)"
   ]
  },
  {
   "cell_type": "code",
   "execution_count": null,
   "metadata": {},
   "outputs": [],
   "source": [
    "traced_mm = torch.jit.trace(jit_mm, (torch.rand(2,2), torch.rand(2,2)))\n",
    "\n",
    "%timeit traced_mm(m1_pt, m2_pt)"
   ]
  },
  {
   "cell_type": "code",
   "execution_count": null,
   "metadata": {},
   "outputs": [],
   "source": [
    "%timeit traced_mm(m1_pt, m2_pt)"
   ]
  },
  {
   "cell_type": "code",
   "execution_count": null,
   "metadata": {},
   "outputs": [],
   "source": []
  }
 ],
 "metadata": {
  "anaconda-cloud": {},
  "kernelspec": {
   "display_name": "Python 3 (ipykernel)",
   "language": "python",
   "name": "python3"
  },
  "language_info": {
   "codemirror_mode": {
    "name": "ipython",
    "version": 3
   },
   "file_extension": ".py",
   "mimetype": "text/x-python",
   "name": "python",
   "nbconvert_exporter": "python",
   "pygments_lexer": "ipython3",
   "version": "3.9.7"
  }
 },
 "nbformat": 4,
 "nbformat_minor": 2
}
