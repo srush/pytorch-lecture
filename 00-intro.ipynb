{
 "cells": [
  {
   "cell_type": "markdown",
   "metadata": {},
   "source": [
    "# Introduction\n",
    "\n",
    "The material for this course is here: https://github.com/mtreviso/pytorch-lecture. \n",
    "\n",
    "<br>\n",
    "<center>\n",
    "    <b>What we are NOT going to cover in this course:</b><br>\n",
    "    <span style=\"display: inline-block; background: #EAEAEA; color: #db1414; padding: 0px 5px; margin-top: 5px;\" >How to implement SOTA models</span>\n",
    "    <br>\n",
    "    <span style=\"display: inline-block; background: #EAEAEA; color: #db1414; padding: 0px 5px; margin-top: 5px;\" >How to optimize our code</span>\n",
    "    <br>\n",
    "    <span style=\"display: inline-block; background: #EAEAEA; color: #db1414; padding: 0px 5px; margin-top: 5px;\" >How autograd is implemented</span>\n",
    "    <br>\n",
    "    <span style=\"display: inline-block; background: #EAEAEA; color: #db1414; padding: 0px 5px; margin-top: 5px;\" >How to use the new fancy stuff: mobile support, distributed training, quantization, sparse tensors, etc.</span>\n",
    "    <br><br>\n",
    "    <b>Instead, we are going to:</b><br>\n",
    "    <span style=\"display: inline-block; background: #EAEAEA; color: #027d15; padding: 0px 5px; margin-top: 5px;\" >Understand the key PyTorch concepts (e.g., tensors, modules, autograd, broadcasting, ...)</span>\n",
    "    <br>\n",
    "    <span style=\"display: inline-block; background: #EAEAEA; color: #027d15; padding: 0px 5px; margin-top: 5px;\" >Understand what PyTorch can and cannot do</span>\n",
    "    <br>\n",
    "    <span style=\"display: inline-block; background: #EAEAEA; color: #027d15; padding: 0px 5px; margin-top: 5px;\" >Create simple neural networks and get and idea of how we can implement more complex models in the future</span>\n",
    "    <br>\n",
    "    <span style=\"display: inline-block; background: #EAEAEA; color: #027d15; padding: 0px 5px; margin-top: 5px;\" >Kick off with PyTorch 🚀</span>\n",
    "</center>\n",
    "\n",
    "> If you use PyTorch on a daily basis, you will most probably not learn a lot during this lecture."
   ]
  },
  {
   "cell_type": "markdown",
   "metadata": {},
   "source": [
    "---"
   ]
  },
  {
   "cell_type": "markdown",
   "metadata": {},
   "source": [
    "# Quick Recap of Jupyter Notebooks\n",
    "\n",
    "A jupyter notebook document has the `.ipynb` extension and is composed of a number of cells. In cells, you can write program code in Python and create notes in markdown style. These three types of cells correspond to:\n",
    "    \n",
    "    1. code\n",
    "    2. markdown\n",
    "    3. raw\n",
    "    \n",
    "To work with the contents of a cell, use *Edit mode* (turns on by pressing **Enter** after selecting a cell), and to navigate between cells, use *command mode* (turns on by pressing **Esc**).\n",
    "\n",
    "The cell type can be set in command mode either using hotkeys (**y** to code, **m** to markdown, **r** to edit raw text), or in the menu *Cell -> Cell type* ... "
   ]
  },
  {
   "cell_type": "markdown",
   "metadata": {},
   "source": [
    "### Example"
   ]
  },
  {
   "cell_type": "code",
   "execution_count": null,
   "metadata": {},
   "outputs": [],
   "source": [
    "# cell with code\n",
    "a = 1"
   ]
  },
  {
   "cell_type": "code",
   "execution_count": null,
   "metadata": {},
   "outputs": [],
   "source": [
    "a = 2"
   ]
  },
  {
   "cell_type": "code",
   "execution_count": null,
   "metadata": {},
   "outputs": [],
   "source": [
    "a\n",
    "print(a)"
   ]
  },
  {
   "cell_type": "markdown",
   "metadata": {},
   "source": [
    "Cell with markdown text"
   ]
  },
  {
   "cell_type": "raw",
   "metadata": {},
   "source": [
    "Cell with raw text"
   ]
  },
  {
   "cell_type": "markdown",
   "metadata": {},
   "source": [
    "Next, press `Shift + Enter` to process the contents of the cell:\n",
    "interpret the code or lay out the marked-up text."
   ]
  },
  {
   "cell_type": "markdown",
   "metadata": {},
   "source": [
    "### Basic shortcuts\n",
    "\n",
    "- `a` creates a cell above the current cell\n",
    "- `b` creates a cell below the current cell\n",
    "- `dd` deletes the curent cell\n",
    "- `Enter` enters in edit mode\n",
    "- `Esc` exits edit mode\n",
    "- `Ctrl` + `Enter` runs the cell\n",
    "- `Shift` + `Enter` runs the cell and creates (or jumps to) a next one\n",
    "- `m` converts the current cell to markdown\n",
    "- `y` converts the current cell to code"
   ]
  },
  {
   "cell_type": "markdown",
   "metadata": {},
   "source": [
    "> ***Word of caution*** <br>\n",
    "> Jupyter-notebook is a great tool for data science since we can see the direct effect of a snippet of code, either by plotting the result or by inspecting the direct output. However, we should be careful with the order in which we run cells (this is a common source of errors).\n"
   ]
  },
  {
   "cell_type": "markdown",
   "metadata": {},
   "source": [
    "---"
   ]
  },
  {
   "cell_type": "markdown",
   "metadata": {},
   "source": [
    "# PyTorch Overview\n",
    "\n",
    "\n",
    "> \"PyTorch - From Research To Production\n",
    "> \n",
    "> An open source machine learning framework that accelerates the path from research prototyping to production deployment.\"\n",
    "> -- https://pytorch.org/"
   ]
  },
  {
   "cell_type": "markdown",
   "metadata": {},
   "source": [
    "## \"Build by run\" - what is that and why do I care?\n",
    "\n"
   ]
  },
  {
   "cell_type": "markdown",
   "metadata": {},
   "source": [
    "<img src=\"https://github.com/pytorch/pytorch/raw/master/docs/source/_static/img/dynamic_graph.gif\" />"
   ]
  },
  {
   "cell_type": "markdown",
   "metadata": {},
   "source": [
    "A very practical reason to use PyTorch:"
   ]
  },
  {
   "cell_type": "code",
   "execution_count": null,
   "metadata": {},
   "outputs": [],
   "source": [
    "import torch\n",
    "import ipdb\n",
    "\n",
    "def f(x):\n",
    "    res = x + x\n",
    "    ipdb.set_trace()  # <-- :o\n",
    "    return res\n",
    "\n",
    "x = torch.randn(1, 8)\n",
    "f(x)"
   ]
  },
  {
   "cell_type": "markdown",
   "metadata": {},
   "source": [
    "## Other reasons for using PyTorch\n"
   ]
  },
  {
   "cell_type": "markdown",
   "metadata": {},
   "source": [
    "<img src='img/the_real_reason.png' width='650px' />"
   ]
  },
  {
   "cell_type": "markdown",
   "metadata": {},
   "source": [
    "\n",
    "- Seamless GPU integration\n",
    "- Production ready\n",
    "- Distributed training\n",
    "- Mobile support\n",
    "- Cloud support\n",
    "- Robust ecosystem\n",
    "- C++ front-end\n"
   ]
  },
  {
   "cell_type": "markdown",
   "metadata": {},
   "source": [
    "## Other neural network toolkits you might want to check out\n",
    "- TensorFlow\n",
    "- JAX\n",
    "- MXNet\n",
    "- Keras\n",
    "- CNTK\n",
    "- Chainer\n",
    "- caffe\n",
    "- caffe2\n",
    "- dynet\n",
    "- many many more\n",
    "\n",
    "Which one to choose? There is no bullet silver. All of them are good!\n"
   ]
  },
  {
   "cell_type": "markdown",
   "metadata": {},
   "source": [
    "---"
   ]
  },
  {
   "cell_type": "markdown",
   "metadata": {},
   "source": [
    "# Useful Links\n",
    "\n",
    "- Twitter: https://twitter.com/PyTorch\n",
    "- Forum: https://discuss.pytorch.org/\n",
    "- Tutorials: https://pytorch.org/tutorials/\n",
    "- Examples: https://github.com/pytorch/examples\n",
    "- API Reference: https://pytorch.org/docs/stable/index.html\n",
    "- Torchvision: https://pytorch.org/docs/stable/torchvision/index.html\n",
    "- PyTorch Text: https://github.com/pytorch/text\n",
    "- PyTorch Audio: https://github.com/pytorch/audio\n",
    "\n",
    "\n",
    "More tutorials:\n",
    "- https://github.com/sotte/pytorch_tutorial\n",
    "- https://github.com/erickrf/pytorch-lecture\n",
    "- https://github.com/goncalomcorreia/pytorch-lecture"
   ]
  }
 ],
 "metadata": {
  "kernelspec": {
   "display_name": "Python 3 (ipykernel)",
   "language": "python",
   "name": "python3"
  },
  "language_info": {
   "codemirror_mode": {
    "name": "ipython",
    "version": 3
   },
   "file_extension": ".py",
   "mimetype": "text/x-python",
   "name": "python",
   "nbconvert_exporter": "python",
   "pygments_lexer": "ipython3",
   "version": "3.9.7"
  }
 },
 "nbformat": 4,
 "nbformat_minor": 2
}
